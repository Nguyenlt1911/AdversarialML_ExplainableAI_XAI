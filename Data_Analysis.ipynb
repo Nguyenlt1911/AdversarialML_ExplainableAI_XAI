{
 "cells": [
  {
   "cell_type": "code",
   "execution_count": 1,
   "metadata": {
    "executionInfo": {
     "elapsed": 7,
     "status": "ok",
     "timestamp": 1739093533824,
     "user": {
      "displayName": "Chun TheCat",
      "userId": "07982624460074593460"
     },
     "user_tz": -60
    },
    "id": "9-irrm-9dGk4"
   },
   "outputs": [],
   "source": [
    "import numpy as np\n",
    "import tensorflow as tf\n",
    "from tensorflow.keras.utils import to_categorical\n",
    "from tensorflow.keras.models import load_model\n",
    "from skimage.segmentation import slic, mark_boundaries\n",
    "import matplotlib.pyplot as plt\n",
    "import pickle\n",
    "from sklearn.preprocessing import PolynomialFeatures\n",
    "from sklearn.linear_model import Ridge\n",
    "from sklearn.base import BaseEstimator, RegressorMixin\n",
    "from tensorflow.keras.losses import CategoricalCrossentropy\n"
   ]
  },
  {
   "cell_type": "code",
   "execution_count": 2,
   "metadata": {
    "executionInfo": {
     "elapsed": 10131,
     "status": "ok",
     "timestamp": 1739093546313,
     "user": {
      "displayName": "Chun TheCat",
      "userId": "07982624460074593460"
     },
     "user_tz": -60
    },
    "id": "rTMAA9xPdNf1"
   },
   "outputs": [],
   "source": [
    "with open('train.p', 'rb') as f:\n",
    "    train_data = pickle.load(f)\n",
    "with open('valid.p', 'rb') as f:\n",
    "    valid_data = pickle.load(f)\n",
    "with open('test.p', 'rb') as f:\n",
    "    test_data = pickle.load(f)\n",
    "\n",
    "X_train, y_train = train_data['features'], train_data['labels']\n",
    "X_valid, y_valid = valid_data['features'], valid_data['labels']\n",
    "X_test, y_test = test_data['features'], test_data['labels']\n",
    "n_classes = len(set(y_train))"
   ]
  },
  {
   "cell_type": "code",
   "execution_count": 3,
   "metadata": {
    "colab": {
     "base_uri": "https://localhost:8080/"
    },
    "executionInfo": {
     "elapsed": 28,
     "status": "ok",
     "timestamp": 1739093550617,
     "user": {
      "displayName": "Chun TheCat",
      "userId": "07982624460074593460"
     },
     "user_tz": -60
    },
    "id": "tzI0_UKFdY3u",
    "outputId": "b3d0e8dd-5307-4fda-f2dd-1c6bbb40175b"
   },
   "outputs": [
    {
     "name": "stdout",
     "output_type": "stream",
     "text": [
      " Training Set :  34799\n",
      " Test Set :  12630\n",
      " Validation Set :  4410\n",
      " Image Dimensions :  (32, 32, 3)\n",
      " Number of classes :  43\n",
      "255\n"
     ]
    }
   ],
   "source": [
    "print ( \" Training Set : \" , len ( X_train ) )\n",
    "print ( \" Test Set : \" , len ( X_test ) )\n",
    "print ( \" Validation Set : \" , len ( X_valid ) )\n",
    "print ( \" Image Dimensions : \" , np . shape ( X_train [1]) )\n",
    "print ( \" Number of classes : \" , len ( np . unique ( y_train ) ) )\n",
    "n_classes = len ( np . unique ( y_train ) )\n",
    "print ( np . max ( X_train ) )"
   ]
  },
  {
   "cell_type": "code",
   "execution_count": 4,
   "metadata": {
    "colab": {
     "base_uri": "https://localhost:8080/"
    },
    "executionInfo": {
     "elapsed": 338,
     "status": "ok",
     "timestamp": 1739093566766,
     "user": {
      "displayName": "Chun TheCat",
      "userId": "07982624460074593460"
     },
     "user_tz": -60
    },
    "id": "4vCnkiz-fFif",
    "outputId": "023eee3d-c375-4457-d7a4-d949bed00ac0"
   },
   "outputs": [
    {
     "data": {
      "text/plain": [
       "['0,Speed limit (20km/h)',\n",
       " '1,Speed limit (30km/h)',\n",
       " '2,Speed limit (50km/h)',\n",
       " '3,Speed limit (60km/h)',\n",
       " '4,Speed limit (70km/h)',\n",
       " '5,Speed limit (80km/h)',\n",
       " '6,End of speed limit (80km/h)',\n",
       " '7,Speed limit (100km/h)',\n",
       " '8,Speed limit (120km/h)',\n",
       " '9,No passing',\n",
       " '10,No passing for vehicles over 3.5 metric tons',\n",
       " '11,Right-of-way at the next intersection',\n",
       " '12,Priority road',\n",
       " '13,Yield',\n",
       " '14,Stop',\n",
       " '15,No vehicles',\n",
       " '16,Vehicles over 3.5 metric tons prohibited',\n",
       " '17,No entry',\n",
       " '18,General caution',\n",
       " '19,Dangerous curve to the left',\n",
       " '20,Dangerous curve to the right',\n",
       " '21,Double curve',\n",
       " '22,Bumpy road',\n",
       " '23,Slippery road',\n",
       " '24,Road narrows on the right',\n",
       " '25,Road work',\n",
       " '26,Traffic signals',\n",
       " '27,Pedestrians',\n",
       " '28,Children crossing',\n",
       " '29,Bicycles crossing',\n",
       " '30,Beware of ice/snow',\n",
       " '31,Wild animals crossing',\n",
       " '32,End of all speed and passing limits',\n",
       " '33,Turn right ahead',\n",
       " '34,Turn left ahead',\n",
       " '35,Ahead only',\n",
       " '36,Go straight or right',\n",
       " '37,Go straight or left',\n",
       " '38,Keep right',\n",
       " '39,Keep left',\n",
       " '40,Roundabout mandatory',\n",
       " '41,End of no passing',\n",
       " '42,End of no passing by vehicles over 3.5 metric tons']"
      ]
     },
     "execution_count": 4,
     "metadata": {},
     "output_type": "execute_result"
    }
   ],
   "source": [
    "label_names = open('signnames.csv').read().strip().split(\"\\n\")[1:]\n",
    "label_names"
   ]
  },
  {
   "cell_type": "markdown",
   "metadata": {
    "id": "EK3iLxnPgQXB"
   },
   "source": [
    "###Distribution of class labels"
   ]
  },
  {
   "cell_type": "code",
   "execution_count": 5,
   "metadata": {
    "colab": {
     "base_uri": "https://localhost:8080/",
     "height": 472
    },
    "executionInfo": {
     "elapsed": 300,
     "status": "ok",
     "timestamp": 1739068350606,
     "user": {
      "displayName": "Chun TheCat",
      "userId": "07982624460074593460"
     },
     "user_tz": -60
    },
    "id": "mwaQ9Vofff_b",
    "outputId": "991fcc0b-b6f1-46c8-891f-b15c8ca831ef"
   },
   "outputs": [
    {
     "data": {
      "image/png": "[encoded data removed]",
      "text/plain": [
       "<Figure size 640x480 with 1 Axes>"
      ]
     },
     "metadata": {},
     "output_type": "display_data"
    }
   ],
   "source": [
    "# The distribution of labels of training set\n",
    "plt.xlim([ min (y_train)- 5 , max (y_train)+ 5 ])\n",
    "\n",
    "plt.hist(y_train, bins=43, alpha=0.5, edgecolor='red')\n",
    "plt.title('Distribution of labels of training set')\n",
    "plt.xlabel('Labels')\n",
    "plt.ylabel('Count')\n",
    "\n",
    "plt.show()"
   ]
  },
  {
   "cell_type": "code",
   "execution_count": 6,
   "metadata": {
    "colab": {
     "base_uri": "https://localhost:8080/"
    },
    "executionInfo": {
     "elapsed": 27,
     "status": "ok",
     "timestamp": 1739068350635,
     "user": {
      "displayName": "Chun TheCat",
      "userId": "07982624460074593460"
     },
     "user_tz": -60
    },
    "id": "D3J09cimiApA",
    "outputId": "fb0ebbf1-a0ec-413c-b97e-d4f715adba96"
   },
   "outputs": [
    {
     "name": "stdout",
     "output_type": "stream",
     "text": [
      "[[   0  180]\n",
      " [   1 1980]\n",
      " [   2 2010]\n",
      " [   3 1260]\n",
      " [   4 1770]\n",
      " [   5 1650]\n",
      " [   6  360]\n",
      " [   7 1290]\n",
      " [   8 1260]\n",
      " [   9 1320]\n",
      " [  10 1800]\n",
      " [  11 1170]\n",
      " [  12 1890]\n",
      " [  13 1920]\n",
      " [  14  690]\n",
      " [  15  540]\n",
      " [  16  360]\n",
      " [  17  990]\n",
      " [  18 1080]\n",
      " [  19  180]\n",
      " [  20  300]\n",
      " [  21  270]\n",
      " [  22  330]\n",
      " [  23  450]\n",
      " [  24  240]\n",
      " [  25 1350]\n",
      " [  26  540]\n",
      " [  27  210]\n",
      " [  28  480]\n",
      " [  29  240]\n",
      " [  30  390]\n",
      " [  31  690]\n",
      " [  32  210]\n",
      " [  33  599]\n",
      " [  34  360]\n",
      " [  35 1080]\n",
      " [  36  330]\n",
      " [  37  180]\n",
      " [  38 1860]\n",
      " [  39  270]\n",
      " [  40  300]\n",
      " [  41  210]\n",
      " [  42  210]]\n"
     ]
    }
   ],
   "source": [
    "(unique, counts) = np.unique(y_train, return_counts=True)\n",
    "frequencies = np.asarray((unique, counts)).T\n",
    "print(frequencies)"
   ]
  },
  {
   "cell_type": "code",
   "execution_count": 7,
   "metadata": {
    "colab": {
     "base_uri": "https://localhost:8080/",
     "height": 472
    },
    "executionInfo": {
     "elapsed": 205,
     "status": "ok",
     "timestamp": 1739068350842,
     "user": {
      "displayName": "Chun TheCat",
      "userId": "07982624460074593460"
     },
     "user_tz": -60
    },
    "id": "sG0oEkepgmVy",
    "outputId": "48a4e317-f356-4fb2-8eff-5c1984252d1f"
   },
   "outputs": [
    {
     "data": {
      "image/png": "[encoded data removed]",
      "text/plain": [
       "<Figure size 640x480 with 1 Axes>"
      ]
     },
     "metadata": {},
     "output_type": "display_data"
    }
   ],
   "source": [
    "# The distribution of labels of validation set\n",
    "plt.xlim([ min (y_valid)- 5 , max (y_valid)+ 5 ])\n",
    "\n",
    "plt.hist(y_valid, bins=43, alpha=0.5, edgecolor='red')\n",
    "plt.title('Distribution of labels of validation set')\n",
    "plt.xlabel('Labels')\n",
    "plt.ylabel('Count')\n",
    "\n",
    "plt.show()"
   ]
  },
  {
   "cell_type": "code",
   "execution_count": 8,
   "metadata": {
    "colab": {
     "base_uri": "https://localhost:8080/"
    },
    "executionInfo": {
     "elapsed": 9,
     "status": "ok",
     "timestamp": 1739068350854,
     "user": {
      "displayName": "Chun TheCat",
      "userId": "07982624460074593460"
     },
     "user_tz": -60
    },
    "id": "lIriKk35h_HW",
    "outputId": "e803e27c-3d0a-41bb-f344-e8bfa7e76c30"
   },
   "outputs": [
    {
     "name": "stdout",
     "output_type": "stream",
     "text": [
      "[[   0  180]\n",
      " [   1 1980]\n",
      " [   2 2010]\n",
      " [   3 1260]\n",
      " [   4 1770]\n",
      " [   5 1650]\n",
      " [   6  360]\n",
      " [   7 1290]\n",
      " [   8 1260]\n",
      " [   9 1320]\n",
      " [  10 1800]\n",
      " [  11 1170]\n",
      " [  12 1890]\n",
      " [  13 1920]\n",
      " [  14  690]\n",
      " [  15  540]\n",
      " [  16  360]\n",
      " [  17  990]\n",
      " [  18 1080]\n",
      " [  19  180]\n",
      " [  20  300]\n",
      " [  21  270]\n",
      " [  22  330]\n",
      " [  23  450]\n",
      " [  24  240]\n",
      " [  25 1350]\n",
      " [  26  540]\n",
      " [  27  210]\n",
      " [  28  480]\n",
      " [  29  240]\n",
      " [  30  390]\n",
      " [  31  690]\n",
      " [  32  210]\n",
      " [  33  599]\n",
      " [  34  360]\n",
      " [  35 1080]\n",
      " [  36  330]\n",
      " [  37  180]\n",
      " [  38 1860]\n",
      " [  39  270]\n",
      " [  40  300]\n",
      " [  41  210]\n",
      " [  42  210]]\n"
     ]
    }
   ],
   "source": [
    "(unique, counts) = np.unique(y_train, return_counts=True)\n",
    "frequencies = np.asarray((unique, counts)).T\n",
    "print(frequencies)"
   ]
  },
  {
   "cell_type": "code",
   "execution_count": 9,
   "metadata": {
    "colab": {
     "base_uri": "https://localhost:8080/",
     "height": 472
    },
    "executionInfo": {
     "elapsed": 242,
     "status": "ok",
     "timestamp": 1739068351097,
     "user": {
      "displayName": "Chun TheCat",
      "userId": "07982624460074593460"
     },
     "user_tz": -60
    },
    "id": "larAvLRfiOIw",
    "outputId": "2a4a8c99-202f-44e4-b89b-701195ad163d"
   },
   "outputs": [
    {
     "data": {
      "image/png": "[encoded data removed]",
      "text/plain": [
       "<Figure size 640x480 with 1 Axes>"
      ]
     },
     "metadata": {},
     "output_type": "display_data"
    }
   ],
   "source": [
    "plt.xlim([ min (y_test)- 5 , max (y_test)+ 5 ])\n",
    "\n",
    "plt.hist(y_test, bins=43, alpha=0.5, edgecolor='red')\n",
    "plt.title('Distribution of labels of test set')\n",
    "plt.xlabel('Labels')\n",
    "plt.ylabel('Count')\n",
    "\n",
    "plt.show()"
   ]
  },
  {
   "cell_type": "code",
   "execution_count": 10,
   "metadata": {
    "colab": {
     "base_uri": "https://localhost:8080/"
    },
    "executionInfo": {
     "elapsed": 5,
     "status": "ok",
     "timestamp": 1739068351104,
     "user": {
      "displayName": "Chun TheCat",
      "userId": "07982624460074593460"
     },
     "user_tz": -60
    },
    "id": "BLvJPIqEiOxZ",
    "outputId": "1704baf2-339a-4d7d-e5d5-385d7813bf09"
   },
   "outputs": [
    {
     "name": "stdout",
     "output_type": "stream",
     "text": [
      "[[  0  60]\n",
      " [  1 720]\n",
      " [  2 750]\n",
      " [  3 450]\n",
      " [  4 660]\n",
      " [  5 630]\n",
      " [  6 150]\n",
      " [  7 450]\n",
      " [  8 450]\n",
      " [  9 480]\n",
      " [ 10 660]\n",
      " [ 11 420]\n",
      " [ 12 690]\n",
      " [ 13 720]\n",
      " [ 14 270]\n",
      " [ 15 210]\n",
      " [ 16 150]\n",
      " [ 17 360]\n",
      " [ 18 390]\n",
      " [ 19  60]\n",
      " [ 20  90]\n",
      " [ 21  90]\n",
      " [ 22 120]\n",
      " [ 23 150]\n",
      " [ 24  90]\n",
      " [ 25 480]\n",
      " [ 26 180]\n",
      " [ 27  60]\n",
      " [ 28 150]\n",
      " [ 29  90]\n",
      " [ 30 150]\n",
      " [ 31 270]\n",
      " [ 32  60]\n",
      " [ 33 210]\n",
      " [ 34 120]\n",
      " [ 35 390]\n",
      " [ 36 120]\n",
      " [ 37  60]\n",
      " [ 38 690]\n",
      " [ 39  90]\n",
      " [ 40  90]\n",
      " [ 41  60]\n",
      " [ 42  90]]\n"
     ]
    }
   ],
   "source": [
    "(unique, counts) = np.unique(y_test, return_counts=True)\n",
    "frequencies = np.asarray((unique, counts)).T\n",
    "print(frequencies)"
   ]
  }
 ],
 "metadata": {
  "colab": {
   "authorship_tag": "ABX9TyNBZ8OK4kwQDAF9kgoPVB9H",
   "provenance": []
  },
  "kernelspec": {
   "display_name": "Python 3 (ipykernel)",
   "language": "python",
   "name": "python3"
  },
  "language_info": {
   "codemirror_mode": {
    "name": "ipython",
    "version": 3
   },
   "file_extension": ".py",
   "mimetype": "text/x-python",
   "name": "python",
   "nbconvert_exporter": "python",
   "pygments_lexer": "ipython3",
   "version": "3.10.9"
  }
 },
 "nbformat": 4,
 "nbformat_minor": 1
}
